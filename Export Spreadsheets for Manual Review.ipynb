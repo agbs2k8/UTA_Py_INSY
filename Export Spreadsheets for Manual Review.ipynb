{
 "cells": [
  {
   "cell_type": "code",
   "execution_count": 10,
   "metadata": {
    "collapsed": true
   },
   "outputs": [],
   "source": [
    "from pymongo import MongoClient\n",
    "# Connect to the mongo local database\n",
    "connection = MongoClient()\n",
    "db = connection.bsa_files\n",
    "collection = db.bsa_files"
   ]
  },
  {
   "cell_type": "code",
   "execution_count": 12,
   "metadata": {
    "collapsed": false
   },
   "outputs": [
    {
     "name": "stdout",
     "output_type": "stream",
     "text": [
      "MongoClient(host=['localhost:27017'], document_class=dict, tz_aware=False, connect=True)\n",
      "\n",
      "Database(MongoClient(host=['localhost:27017'], document_class=dict, tz_aware=False, connect=True), u'bsa_files')\n",
      "\n",
      "<bound method MongoClient.database_names of MongoClient(host=['localhost:27017'], document_class=dict, tz_aware=False, connect=True)>\n",
      "\n",
      "Collection(Database(MongoClient(host=['localhost:27017'], document_class=dict, tz_aware=False, connect=True), u'bsa_files'), u'bsa_files')\n",
      "\n",
      "<bound method Database.collection_names of Database(MongoClient(host=['localhost:27017'], document_class=dict, tz_aware=False, connect=True), u'bsa_files')>\n"
     ]
    }
   ],
   "source": [
    "print(connection)\n",
    "print\n",
    "print(db)\n",
    "print\n",
    "print(connection.database_names)\n",
    "print\n",
    "print(collection)\n",
    "print\n",
    "print(db.collection_names)"
   ]
  },
  {
   "cell_type": "code",
   "execution_count": 1,
   "metadata": {
    "collapsed": true
   },
   "outputs": [],
   "source": [
    "import xlsxwriter\n",
    "import pickle"
   ]
  },
  {
   "cell_type": "code",
   "execution_count": 2,
   "metadata": {
    "collapsed": false
   },
   "outputs": [
    {
     "name": "stdout",
     "output_type": "stream",
     "text": [
      "36549\n",
      "5546\n",
      "4221\n",
      "4221\n"
     ]
    }
   ],
   "source": [
    "working_uid_list =  pickle.load(open('working_uid_list.pickle','r'))\n",
    "working_hash_dict = pickle.load(open('working_hash_dict.pickle','r'))\n",
    "content_hash_dict = pickle.load(open('content_hash_dict.pickle','r'))\n",
    "unique_content_hash_list = pickle.load(open('unique_content_hash_list.pickle','r'))\n",
    "\n",
    "#Validate\n",
    "print(len(working_uid_list))\n",
    "print(len(working_hash_dict))\n",
    "print(len(content_hash_dict))\n",
    "print(len(unique_content_hash_list))"
   ]
  },
  {
   "cell_type": "code",
   "execution_count": 4,
   "metadata": {
    "collapsed": true
   },
   "outputs": [],
   "source": [
    "export_columns = ['content_hash','bin_hash','doc_name','primary_url','alternate_url','pages',\n",
    "                 'title','creation_date','producer','creator','last_modified','author']"
   ]
  },
  {
   "cell_type": "code",
   "execution_count": 50,
   "metadata": {
    "collapsed": false
   },
   "outputs": [
    {
     "name": "stdout",
     "output_type": "stream",
     "text": [
      "[u'32c5c8557b32bef8a254d008b26afdac4fea21f6', '7297af00e1cc18bb961b799ff97028ea52044799', u'310-795-8_bookmark_4.pdf', u'http://www.scouting.org/filestore/marketing/stem/PDFs/310-795-8_bookmark_4.pdf', u'https://alumni.scouting.org/filestore/marketing/stem/PDFs/310-795-8_bookmark_4.pdf', 1, u'310-795-8.indd', u'2015-03-17', u'Adobe PDF Library 10.0.1', u'Adobe InDesign CS6 (Macintosh)', u'2015-03-17', None]\n"
     ]
    }
   ],
   "source": [
    "#Converts the typical output for a PyPDF2 Metadata Date into a useable format. \n",
    "def convertPyPDFDate(origDate):\n",
    "    if len(origDate) == 23:\n",
    "        year = origDate[2:6]\n",
    "        mon = origDate[6:8]\n",
    "        day = origDate[8:10]\n",
    "        return (year+\"-\"+mon+\"-\"+day)\n",
    "    return origDate\n",
    "\n",
    "def get_export_row(bin_hash):\n",
    "    doc_name = None\n",
    "    primary_url = None\n",
    "    alternate_url = None\n",
    "    pages = None\n",
    "    title = None\n",
    "    creation_date = None\n",
    "    producer = None\n",
    "    creator = None\n",
    "    last_modified = None\n",
    "    author = None\n",
    "    \n",
    "    alt_doc_name = None\n",
    "    alt_primary_url = None\n",
    "    alt_pages = None\n",
    "    alt_title = None\n",
    "    alt_creation_date = None\n",
    "    alt_producer = None\n",
    "    alt_creator = None\n",
    "    alt_last_modified = None\n",
    "    alt_author = None\n",
    "    \n",
    "    cursor = collection.find({\"Hash\":bin_hash})\n",
    "    content_hash = cursor[0]['Content_Hash']\n",
    "    binary_hash = bin_hash\n",
    "    \n",
    "    for document in cursor:\n",
    "        if document['Domain']== u'www.scouting.org':\n",
    "            doc_name = document['File_Name']\n",
    "            primary_url = document['URL']\n",
    "            pages = document['Pages']\n",
    "            \n",
    "            if '/Title' in document[\"Metadata\"]:\n",
    "                title = document[\"Metadata\"][\"/Title\"]\n",
    "            if '/CreationDate' in document[\"Metadata\"]:\n",
    "                creation_date = convertPyPDFDate(document[\"Metadata\"][\"/CreationDate\"])\n",
    "            if '/Producer' in document[\"Metadata\"]:\n",
    "                producer = document[\"Metadata\"][\"/Producer\"]\n",
    "            if '/Creator' in document[\"Metadata\"]:\n",
    "                creator = document[\"Metadata\"][\"/Creator\"]\n",
    "            if '/ModDate' in document[\"Metadata\"]:\n",
    "                last_modified = convertPyPDFDate(document[\"Metadata\"][\"/ModDate\"])\n",
    "            if '/Author' in document[\"Metadata\"]:\n",
    "                author = document[\"Metadata\"]['/Author']        \n",
    "        elif document['Domain']!= u'www.scouting.org':\n",
    "            alternate_url = document['URL']\n",
    "            alt_doc_name = document['File_Name']\n",
    "            alt_primary_url = document['URL']\n",
    "            alt_pages = document['Pages']\n",
    "            \n",
    "            if '/Title' in document[\"Metadata\"]:\n",
    "                alt_title = document[\"Metadata\"][\"/Title\"]\n",
    "            if '/CreationDate' in document[\"Metadata\"]:\n",
    "                alt_creation_date = convertPyPDFDate(document[\"Metadata\"][\"/CreationDate\"])\n",
    "            if '/Producer' in document[\"Metadata\"]:\n",
    "                alt_producer = document[\"Metadata\"][\"/Producer\"]\n",
    "            if '/Creator' in document[\"Metadata\"]:\n",
    "                alt_creator = document[\"Metadata\"][\"/Creator\"]\n",
    "            if '/ModDate' in document[\"Metadata\"]:\n",
    "                alt_last_modified = convertPyPDFDate(document[\"Metadata\"][\"/ModDate\"])\n",
    "            if '/Author' in document[\"Metadata\"]:\n",
    "                alt_author = document[\"Metadata\"]['/Author']        \n",
    "    \n",
    "    if doc_name ==None and alt_doc_name!=None:\n",
    "        doc_name = alt_doc_name\n",
    "    \n",
    "    if primary_url == None and alt_primary_url!=None:\n",
    "        primary_url = alt_primary_url\n",
    "        \n",
    "    if pages == None and alt_pages!=None:\n",
    "        pages=alt_pages\n",
    "        \n",
    "    if title == None and alt_title!=None:\n",
    "        title = alt_title\n",
    "        \n",
    "    if creation_date == None and alt_creation_date!=None:\n",
    "        creation_date = alt_creation_date\n",
    "        \n",
    "    if producer == None and alt_producer!=None:\n",
    "        producer = alt_producer\n",
    "        \n",
    "    if creator == None and alt_creator!= None:\n",
    "        creator = alt_creator\n",
    "        \n",
    "    if last_modified == None and alt_last_modified!=None:\n",
    "        last_modified = alt_last_modified\n",
    "        \n",
    "    if author == None and alt_author!= None:\n",
    "        author = alt_author\n",
    "    \n",
    "    return([content_hash,binary_hash,doc_name,primary_url,alternate_url,pages,\n",
    "                 title,creation_date,producer,creator,last_modified,author])\n",
    "#test return            \n",
    "print(get_export_row(\"7297af00e1cc18bb961b799ff97028ea52044799\"))    "
   ]
  },
  {
   "cell_type": "code",
   "execution_count": 51,
   "metadata": {
    "collapsed": false
   },
   "outputs": [
    {
     "name": "stderr",
     "output_type": "stream",
     "text": [
      "C:\\Users\\ajwil\\Anaconda2\\lib\\site-packages\\xlsxwriter\\worksheet.py:829: UserWarning: Ignoring URL 'https://scoutnet.scouting.org/MyBSA/contentproxy1/proxy.aspx?Method=GetBinaryContent&Channel=InfoBinary&SessionToken=K1A5BDA8F4544CC18DA5292682436310C8BE80AC5D6D476199A7561125309420&Target=http%3A%2F%2Finfo.netbsa.org%2Fadm%2Fisd%2Fregistration%2Fpdf%2F524-925_2012.pdf' with link or location/anchor > 255 characters since it exceeds Excel's limit for URLS\n",
      "  force_unicode(url))\n"
     ]
    }
   ],
   "source": [
    "workbook = xlsxwriter.Workbook('BSA_PDF_Review.xlsx') #create new XLSX file\n",
    "worksheet = workbook.add_worksheet() #create new worksheet in that XLSX file\n",
    "\n",
    "worksheet.write_row(0,0,export_columns) #add name to first column\n",
    "\n",
    "x=1\n",
    "for bin_hash in working_hash_dict:\n",
    "    worksheet.write_row(x,0,get_export_row(bin_hash))\n",
    "    x+=1\n",
    "\n",
    "workbook.close()"
   ]
  },
  {
   "cell_type": "code",
   "execution_count": null,
   "metadata": {
    "collapsed": false
   },
   "outputs": [],
   "source": []
  }
 ],
 "metadata": {
  "kernelspec": {
   "display_name": "Python [conda root]",
   "language": "python",
   "name": "conda-root-py"
  },
  "language_info": {
   "codemirror_mode": {
    "name": "ipython",
    "version": 2
   },
   "file_extension": ".py",
   "mimetype": "text/x-python",
   "name": "python",
   "nbconvert_exporter": "python",
   "pygments_lexer": "ipython2",
   "version": "2.7.12"
  }
 },
 "nbformat": 4,
 "nbformat_minor": 1
}
