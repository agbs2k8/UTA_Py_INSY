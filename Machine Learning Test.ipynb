{
 "cells": [
  {
   "cell_type": "markdown",
   "metadata": {},
   "source": [
    "### Machine Learning Classification\n",
    "    Test/Train Data Source: Documents with proper BSA Bin numbers"
   ]
  },
  {
   "cell_type": "code",
   "execution_count": 3,
   "metadata": {
    "collapsed": true
   },
   "outputs": [],
   "source": [
    "import pandas as pd\n",
    "import pickle"
   ]
  },
  {
   "cell_type": "code",
   "execution_count": 2,
   "metadata": {
    "collapsed": true
   },
   "outputs": [],
   "source": [
    "full_data = pd.read_csv(\"train_data_edited.txt\",sep='\\t')"
   ]
  },
  {
   "cell_type": "code",
   "execution_count": 5,
   "metadata": {
    "collapsed": false
   },
   "outputs": [
    {
     "name": "stdout",
     "output_type": "stream",
     "text": [
      "1292\n",
      "<class 'pandas.core.frame.DataFrame'>\n",
      "Index([u'hash', u'name', u'content', u'pages', u'size', u'language', u'domain',\n",
      "       u'folder', u'class'],\n",
      "      dtype='object')\n"
     ]
    }
   ],
   "source": [
    "print(len(full_data))\n",
    "print(type(full_data))\n",
    "print(full_data.columns)"
   ]
  },
  {
   "cell_type": "code",
   "execution_count": 14,
   "metadata": {
    "collapsed": false
   },
   "outputs": [
    {
     "name": "stdout",
     "output_type": "stream",
     "text": [
      "(3979, 313)\n",
      "(240, 790)\n"
     ]
    }
   ],
   "source": [
    "english_tfidf_matrix = pickle.load(open('english_tfidf_matrix.pickle','r'))\n",
    "spanish_tfidf_matrix = pickle.load(open('spanish_tfidf_matrix.pickle','r'))\n",
    "print(english_tfidf_matrix.shape)\n",
    "print(spanish_tfidf_matrix.shape)"
   ]
  },
  {
   "cell_type": "code",
   "execution_count": 36,
   "metadata": {
    "collapsed": false
   },
   "outputs": [
    {
     "name": "stdout",
     "output_type": "stream",
     "text": [
      "  (0, 109)\t0.115673811426\n",
      "  (0, 278)\t0.353851135641\n",
      "  (0, 42)\t0.11552896921\n",
      "  (0, 114)\t0.0985952764511\n",
      "  (0, 145)\t0.311407315168\n",
      "  (0, 309)\t0.103124969061\n",
      "  (0, 204)\t0.0946076627929\n",
      "  (0, 167)\t0.0822299032742\n",
      "  (0, 155)\t0.299616186464\n",
      "  (0, 201)\t0.101724951378\n",
      "  (0, 118)\t0.101219126841\n",
      "  (0, 299)\t0.22345593521\n",
      "  (0, 91)\t0.225894159558\n",
      "  (0, 188)\t0.159615735699\n",
      "  (0, 252)\t0.100258188097\n",
      "  (0, 51)\t0.104221131372\n",
      "  (0, 285)\t0.125853570385\n",
      "  (0, 119)\t0.216653334398\n",
      "  (0, 161)\t0.229717345236\n",
      "  (0, 102)\t0.493426187263\n",
      "  (0, 220)\t0.104412641912\n",
      "  (0, 307)\t0.174719397251\n",
      "  (0, 187)\t0.12028533448\n",
      "  (0, 95)\t0.105069464603\n",
      "  (0, 289)\t0.0840403245777\n",
      "  (0, 272)\t0.0949225176974\n",
      "  (0, 240)\t0.0927298798442\n",
      "  (0, 223)\t0.0817213139319\n"
     ]
    }
   ],
   "source": [
    "print(english_tfidf_matrix[0])"
   ]
  },
  {
   "cell_type": "code",
   "execution_count": 15,
   "metadata": {
    "collapsed": false
   },
   "outputs": [
    {
     "name": "stdout",
     "output_type": "stream",
     "text": [
      "313\n",
      "790\n"
     ]
    }
   ],
   "source": [
    "english_terms = pickle.load(open('english_terms.pickle','r'))\n",
    "spanish_terms = pickle.load(open('spanish_terms.pickle','r'))\n",
    "print(len(english_terms))\n",
    "print(len(spanish_terms))"
   ]
  },
  {
   "cell_type": "code",
   "execution_count": 32,
   "metadata": {
    "collapsed": false
   },
   "outputs": [
    {
     "name": "stdout",
     "output_type": "stream",
     "text": [
      "provid\n"
     ]
    }
   ],
   "source": [
    "print(english_terms[223])"
   ]
  },
  {
   "cell_type": "code",
   "execution_count": 5,
   "metadata": {
    "collapsed": false
   },
   "outputs": [
    {
     "name": "stdout",
     "output_type": "stream",
     "text": [
      "3979\n",
      "240\n"
     ]
    }
   ],
   "source": [
    "english_dist = pickle.load(open('english_dist.pickle','r'))\n",
    "spanish_dist = pickle.load(open('spanish_dist.pickle','r'))\n",
    "print(len(english_dist))\n",
    "print(len(spanish_dist))"
   ]
  },
  {
   "cell_type": "code",
   "execution_count": 6,
   "metadata": {
    "collapsed": false
   },
   "outputs": [
    {
     "name": "stdout",
     "output_type": "stream",
     "text": [
      "3979\n",
      "[ -2.22044605e-16   9.41822331e-01   7.85093188e-01 ...,   7.97834947e-01\n",
      "   8.56313364e-01   9.17019276e-01]\n"
     ]
    }
   ],
   "source": [
    "print(len(english_dist[0]))\n",
    "print(english_dist[0])"
   ]
  },
  {
   "cell_type": "code",
   "execution_count": 18,
   "metadata": {
    "collapsed": false
   },
   "outputs": [
    {
     "name": "stdout",
     "output_type": "stream",
     "text": [
      "3979\n",
      "240\n"
     ]
    }
   ],
   "source": [
    "english_text_names = pickle.load(open('bsa_english_document_names.pickle','r'))\n",
    "spanish_text_names = pickle.load(open('bsa_spanish_document_names.pickle','r'))\n",
    "print(len(english_text_names))\n",
    "print(len(spanish_text_names))"
   ]
  },
  {
   "cell_type": "code",
   "execution_count": 22,
   "metadata": {
    "collapsed": false
   },
   "outputs": [
    {
     "name": "stdout",
     "output_type": "stream",
     "text": [
      "am36_solidtothecore.pdf\n"
     ]
    }
   ],
   "source": [
    "print(english_text_names[0])"
   ]
  },
  {
   "cell_type": "code",
   "execution_count": 19,
   "metadata": {
    "collapsed": false
   },
   "outputs": [
    {
     "name": "stdout",
     "output_type": "stream",
     "text": [
      "3979\n",
      "240\n"
     ]
    }
   ],
   "source": [
    "english_text_corpus = pickle.load(open('bsa_english_corpus.pickle','r'))\n",
    "spanish_text_corpus = pickle.load(open('bsa_spanish_corpus.pickle','r'))\n",
    "print(len(english_text_corpus))\n",
    "print(len(spanish_text_corpus))"
   ]
  },
  {
   "cell_type": "code",
   "execution_count": 35,
   "metadata": {
    "collapsed": false
   },
   "outputs": [
    {
     "name": "stdout",
     "output_type": "stream",
     "text": [
      "Solid to the Core Providing Resources to Support Units, Chapters, and Lodges Every once in a while when you™re working on a pioneer ing project, you™ll find a spar that looks great but that turns out to be weak and unreliable. Maybe its center has been eaten away by insects. Or maybe it has natural splits inside that you can't see. You can test a spar fo r soundness by holding one end and rapping the other end sharply on a rock. If it™s sound you'll hear it ring. Otherwise, you™ll want to toss it aside and find a good, solid spar to work with. Some people are like defective spars. They look great on the outside and they may have appealing personalities, the kind of guys and girls you think you would like to know. But when you do get to know them better, you find that they™re like a defective sparŠweak inside . They don™t have the strength of character to resist things that you know are wrong, and chances are they will want you to do those things, too. When that happens, do the same thing you do when you have a defective spar: Cast it aside and find a sounder one. In other words, choose friends who are solid to the core.\n"
     ]
    }
   ],
   "source": [
    "print(english_text_corpus[0])"
   ]
  },
  {
   "cell_type": "code",
   "execution_count": 20,
   "metadata": {
    "collapsed": false
   },
   "outputs": [
    {
     "name": "stdout",
     "output_type": "stream",
     "text": [
      "(10947405, 1)\n",
      "(1986384, 1)\n"
     ]
    }
   ],
   "source": [
    "english_vocab_frame = pickle.load(open('english_vocab_frame.pickle','r'))\n",
    "spanish_vocab_frame = pickle.load(open('spanish_vocab_frame.pickle','r'))\n",
    "print(english_vocab_frame.shape)\n",
    "print(spanish_vocab_frame.shape)"
   ]
  }
 ],
 "metadata": {
  "anaconda-cloud": {},
  "kernelspec": {
   "display_name": "Python [conda root]",
   "language": "python",
   "name": "conda-root-py"
  },
  "language_info": {
   "codemirror_mode": {
    "name": "ipython",
    "version": 2
   },
   "file_extension": ".py",
   "mimetype": "text/x-python",
   "name": "python",
   "nbconvert_exporter": "python",
   "pygments_lexer": "ipython2",
   "version": "2.7.12"
  }
 },
 "nbformat": 4,
 "nbformat_minor": 1
}
