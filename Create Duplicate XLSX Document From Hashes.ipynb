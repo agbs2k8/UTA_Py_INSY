{
 "cells": [
  {
   "cell_type": "code",
   "execution_count": 6,
   "metadata": {
    "collapsed": false
   },
   "outputs": [
    {
     "name": "stdout",
     "output_type": "stream",
     "text": [
      "Start: 12:27:04.034000\n",
      "End: 12:27:05.482000\n"
     ]
    }
   ],
   "source": [
    "import PyPDF2\n",
    "import sys\n",
    "import collections\n",
    "import urllib2\n",
    "from StringIO import StringIO\n",
    "from django.utils.encoding import smart_str, smart_unicode\n",
    "import datetime\n",
    "import pandas as pd\n",
    "import csv as csv\n",
    "from __future__ import print_function\n",
    "import hashlib\n",
    "import os\n",
    "import json\n",
    "import xlsxwriter\n",
    "\n",
    "start_time = datetime.datetime.now().time()\n",
    "print(\"Start: \"+str(start_time))\n",
    "\n",
    "with open('D:\\BSA_PDF_Files\\JSON\\hashMatching.json', 'r') as f:\n",
    "     hashMatches = json.load(f)\n",
    "\n",
    "workbook = xlsxwriter.Workbook('duplicates.xlsx')\n",
    "worksheet = workbook.add_worksheet()\n",
    "x=1\n",
    "worksheet.write('A1',\"Hash\")\n",
    "worksheet.write('B1',\"UIDs\")\n",
    "uniqueUIDs = []\n",
    "\n",
    "for key, values in hashMatches.iteritems():\n",
    "    worksheet.write(x,0,key)\n",
    "    uniqueUIDs.append(values[0])\n",
    "    for value in values:\n",
    "        worksheet.write(x,(values.index(value)+1),value)\n",
    "    x+=1    \n",
    "workbook.close()    \n",
    "\n",
    "end_time = datetime.datetime.now().time()\n",
    "print(\"End: \"+str(end_time))"
   ]
  }
 ],
 "metadata": {
  "anaconda-cloud": {},
  "kernelspec": {
   "display_name": "Python [conda root]",
   "language": "python",
   "name": "conda-root-py"
  },
  "language_info": {
   "codemirror_mode": {
    "name": "ipython",
    "version": 2
   },
   "file_extension": ".py",
   "mimetype": "text/x-python",
   "name": "python",
   "nbconvert_exporter": "python",
   "pygments_lexer": "ipython2",
   "version": "2.7.12"
  }
 },
 "nbformat": 4,
 "nbformat_minor": 1
}
