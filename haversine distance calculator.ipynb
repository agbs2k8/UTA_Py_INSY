{
 "cells": [
  {
   "cell_type": "code",
   "execution_count": 2,
   "metadata": {
    "collapsed": false
   },
   "outputs": [
    {
     "name": "stdout",
     "output_type": "stream",
     "text": [
      "The distance is 36.4951422374 km\n"
     ]
    }
   ],
   "source": [
    "def getDistance(lat1, long1, lat2, long2):\n",
    "    import math\n",
    "    earthRad = float(6371.008)\n",
    "    lat1 = math.radians(lat1)\n",
    "    lat2 = math.radians(lat2)\n",
    "    latChange = lat2-lat1\n",
    "    longChange = math.radians(long2-long1)\n",
    "    \n",
    "    haversine = (math.sin(latChange/2)**2) + (math.sin(longChange/2)**2) * math.cos(lat1)*math.cos(lat2)\n",
    "    \n",
    "    c = 2* math.atan2(math.sqrt(haversine), math.sqrt(1.0-haversine))\n",
    "    \n",
    "    distance = earthRad * c\n",
    "    \n",
    "    return distance\n",
    "\n",
    "#test function\n",
    "#distance from web is 36.5 km \n",
    "print('The distance is {} km'.format(getDistance(32.8694276,-97.3447198,32.8556622,-96.9543275)))"
   ]
  }
 ],
 "metadata": {
  "anaconda-cloud": {},
  "kernelspec": {
   "display_name": "Python [conda root]",
   "language": "python",
   "name": "conda-root-py"
  },
  "language_info": {
   "codemirror_mode": {
    "name": "ipython",
    "version": 2
   },
   "file_extension": ".py",
   "mimetype": "text/x-python",
   "name": "python",
   "nbconvert_exporter": "python",
   "pygments_lexer": "ipython2",
   "version": "2.7.12"
  }
 },
 "nbformat": 4,
 "nbformat_minor": 0
}
