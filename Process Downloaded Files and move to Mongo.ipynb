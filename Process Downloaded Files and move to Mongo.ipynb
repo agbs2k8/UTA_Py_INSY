{
 "cells": [
  {
   "cell_type": "markdown",
   "metadata": {},
   "source": [
    "## Imports"
   ]
  },
  {
   "cell_type": "code",
   "execution_count": 1,
   "metadata": {
    "collapsed": true
   },
   "outputs": [],
   "source": [
    "import PyPDF2 #Reads PDF Files\n",
    "import ujson\n",
    "import hashlib\n",
    "import pickle\n",
    "from unidecode import unidecode"
   ]
  },
  {
   "cell_type": "markdown",
   "metadata": {},
   "source": [
    "# Initializing Master Repository of Content\n",
    "### Starting from the complete PDF Library being downloaded and the binary file of each PDF document hashed and appended to a JSON object for that file"
   ]
  },
  {
   "cell_type": "code",
   "execution_count": 2,
   "metadata": {
    "collapsed": false
   },
   "outputs": [
    {
     "name": "stdout",
     "output_type": "stream",
     "text": [
      "36549\n",
      "5546\n"
     ]
    }
   ],
   "source": [
    "#Recreate complete list of JSON objects that were created:\n",
    "working_uid_list = []\n",
    "working_hash_dict = {}\n",
    "\n",
    "for x in range (100, 37871):\n",
    "    try:\n",
    "        with open ('D:\\BSA_PDF_Files\\JSON\\BSA_{}.json'.format(x),'r') as j:\n",
    "            temp_hash = ujson.load(j)[\"Hash\"]\n",
    "            working_uid_list.append('BSA_{}'.format(x))\n",
    "            if temp_hash in working_hash_dict:\n",
    "                working_hash_dict[temp_hash].append('BSA_{}'.format(x))\n",
    "            else:\n",
    "                working_hash_dict.update({temp_hash:['BSA_{}'.format(x)]})\n",
    "    except:\n",
    "        continue\n",
    "print(len(working_uid_list))\n",
    "print(len(working_hash_dict))"
   ]
  },
  {
   "cell_type": "code",
   "execution_count": 3,
   "metadata": {
    "collapsed": false
   },
   "outputs": [],
   "source": [
    "def convertPDF2String(path):\n",
    "    content = \"\"\n",
    "    # load pdf file\n",
    "    pdf = PyPDF2.PdfFileReader(file(path,\"rb\"))\n",
    "    if pdf.isEncrypted: \n",
    "        try: pdf.decrypt('')\n",
    "        except: print(\"Attempted decrpytion failed on UID: \"+uid)\n",
    "    # iterate pages\n",
    "    for i in range(0, pdf.getNumPages()):\n",
    "        # extract the text from each page\n",
    "        try: content += pdf.getPage(i).extractText() + \" \\n\"\n",
    "        except: continue\n",
    "    # collapse whitespaces\n",
    "    content = \" \".join(content.replace(u\"\\xa0\", \" \").split()).encode('utf-8')\n",
    "    return (content) #.encode('utf-8')\n",
    "\n",
    "#Append textual content to dictionary for ecah unique PDF file\n",
    "def contentReadAndAppend(uid):\n",
    "    try: \n",
    "        with open('D:\\BSA_PDF_Files\\JSON\\\\'+uid+'.json', 'r') as i:\n",
    "            uid_dict_check = ujson.load(i)\n",
    "            old_content = uid_dict_check[\"Content\"]\n",
    "    except: \n",
    "        old_content = None\n",
    "    if old_content is None:\n",
    "        content = convertPDF2String('D:\\BSA_PDF_Files\\\\'+uid+'.pdf')\n",
    "        with open('D:\\BSA_PDF_Files\\JSON\\\\'+uid+'.json', 'r') as j: #open JSON for the file in question\n",
    "            uid_dict = ujson.load(j)\n",
    "        uid_dict.update({\"Content\":content})\n",
    "        with open('D:\\BSA_PDF_Files\\JSON\\\\'+uid+'.json', 'w') as k:\n",
    "            ujson.dump(uid_dict,k,indent=4)\n",
    "\n",
    "def addPageNumbers(uid):\n",
    "    try:\n",
    "        with open ('D:\\BSA_PDF_Files\\JSON\\\\'+uid+'.json','r') as j:\n",
    "            uid_dict_check = ujson.load(i)\n",
    "            old_pgn = uid_dict_check[\"Pages\"]\n",
    "    except:\n",
    "        old_pgn = None\n",
    "    if old_pgn is None:\n",
    "        tempPdf = PyPDF2.PdfFileReader(file('D:\\BSA_PDF_Files\\\\'+uid+'.pdf','rb'))\n",
    "        if tempPdf.isEncrypted: \n",
    "                    try: tempPdf.decrypt('')\n",
    "                    except: print(\"Attempted decrpytion failed on uid: \"+uid)\n",
    "        pageNumbers = tempPdf.getNumPages()\n",
    "        #print (pageNumbers)\n",
    "        with open('D:\\BSA_PDF_Files\\JSON\\\\'+uid+'.json', 'r') as k:\n",
    "            uid_dict = ujson.load(k)\n",
    "        uid_dict.update({\"Pages\":pageNumbers})\n",
    "        with open('D:\\BSA_PDF_Files\\JSON\\\\'+uid+'.json', 'w') as l:\n",
    "            ujson.dump(uid_dict,l,indent=4)\n",
    "\n",
    "for uid in working_uid_list:\n",
    "    try:contentReadAndAppend(uid)\n",
    "    except:print(\"Content Error on UID: \"+uid)\n",
    "    try:addPageNumbers(uid)\n",
    "    except:print(\"PageNum Error on UID: \"+uid)"
   ]
  },
  {
   "cell_type": "code",
   "execution_count": 10,
   "metadata": {
    "collapsed": false
   },
   "outputs": [
    {
     "name": "stdout",
     "output_type": "stream",
     "text": [
      "4222\n"
     ]
    }
   ],
   "source": [
    "content_hash_dict = {}\n",
    "\n",
    "def create_content_hash(uid):\n",
    "    global content_hash_dict\n",
    "    try:\n",
    "        with open ('D:\\BSA_PDF_Files\\JSON\\\\'+uid+'.json','r') as j:    \n",
    "            uid_dict = ujson.load(j)\n",
    "        uid_content = uid_dict['Content']\n",
    "        \n",
    "    except:\n",
    "        uid_content = None    \n",
    "    #print(uid_content)\n",
    "    \n",
    "    if uid_content is not None: \n",
    "        try:\n",
    "            tempHash = hashlib.sha1(uid_content).hexdigest()\n",
    "        except:\n",
    "            decoded_content = unidecode(uid_content)\n",
    "            tempHash = hashlib.sha1(decoded_content).hexdigest()\n",
    "        #print(tempHash)\n",
    "        if tempHash in content_hash_dict:\n",
    "            content_hash_dict[tempHash].append(uid) #add new has to global dictionary\n",
    "        else:\n",
    "            content_hash_dict.update({tempHash:[uid]}) #append UID to an existing list of UIDs for that hash value\n",
    "        \n",
    "        uid_dict.update({\"Content_Hash\":tempHash})\n",
    "\n",
    "    with open('D:\\BSA_PDF_Files\\JSON\\\\'+uid+'.json','w') as k:\n",
    "        ujson.dump(uid_dict,k,indent=4)\n",
    "\n",
    "\n",
    "for uid in working_uid_list:\n",
    "    create_content_hash(uid)\n",
    "        \n",
    "print(len(content_hash_dict))\n",
    "\n",
    "with open('D:\\BSA_PDF_Files\\JSON\\Content_Hash_Dict.json','w') as o:\n",
    "    ujson.dump(content_hash_dict,o,indent=4)"
   ]
  },
  {
   "cell_type": "code",
   "execution_count": 59,
   "metadata": {
    "collapsed": false
   },
   "outputs": [],
   "source": [
    "with open (\"working_uid_list.pickle\",\"w\") as u:\n",
    "    pickle.dump(working_uid_list, u)\n",
    "with open (\"working_hash_dict.pickle\",\"w\") as v:\n",
    "    pickle.dump(working_hash_dict, v)\n",
    "with open (\"content_hash_dict.pickle\",\"w\") as x:\n",
    "    pickle.dump(content_hash_dict, x)\n",
    "with open('bin_hash_url.pickle','w') as z:\n",
    "    pickle.dump(bin_hash_url,z)"
   ]
  },
  {
   "cell_type": "code",
   "execution_count": 2,
   "metadata": {
    "collapsed": false
   },
   "outputs": [],
   "source": [
    "working_uid_list =  pickle.load(open('working_uid_list.pickle','r'))\n",
    "working_hash_dict = pickle.load(open('working_hash_dict.pickle','r'))\n",
    "content_hash_dict = pickle.load(open('content_hash_dict.pickle','r'))\n",
    "bin_hash_url = pickle.load(open('bin_hash_url.pickle','r'))"
   ]
  },
  {
   "cell_type": "code",
   "execution_count": 3,
   "metadata": {
    "collapsed": false
   },
   "outputs": [
    {
     "name": "stdout",
     "output_type": "stream",
     "text": [
      "36549\n",
      "5546\n",
      "4221\n",
      "5546\n"
     ]
    }
   ],
   "source": [
    "print(len(working_uid_list))\n",
    "print(len(working_hash_dict))\n",
    "print(len(content_hash_dict))\n",
    "print(len(bin_hash_url))"
   ]
  },
  {
   "cell_type": "code",
   "execution_count": 50,
   "metadata": {
    "collapsed": false
   },
   "outputs": [
    {
     "name": "stdout",
     "output_type": "stream",
     "text": [
      "Operation Complete\n"
     ]
    }
   ],
   "source": [
    "bin_hash_url = {}\n",
    "for bin_hash in working_hash_dict:\n",
    "    \n",
    "    uids = working_hash_dict[bin_hash]\n",
    "    urls = []\n",
    "    for uid in uids:\n",
    "        with open ('D:\\BSA_PDF_Files\\JSON\\\\'+uid+'.json','r') as j:    \n",
    "            urls.append(ujson.load(j)[\"URL\"])\n",
    "    bin_hash_url.update({bin_hash:urls})\n",
    "with open (\"bin_hash_url.pickle\",\"w\") as d:\n",
    "    pickle.dump(bin_hash_url, d)\n",
    "\n",
    "print(\"Operation Complete\")\n"
   ]
  },
  {
   "cell_type": "code",
   "execution_count": 52,
   "metadata": {
    "collapsed": true
   },
   "outputs": [],
   "source": [
    "with open('Hash_to_URLs.json','w') as f:\n",
    "    ujson.dump(bin_hash_url,f, indent = 4)"
   ]
  },
  {
   "cell_type": "markdown",
   "metadata": {},
   "source": [
    "## Attempt to initialize and use MongoDB for the files"
   ]
  },
  {
   "cell_type": "code",
   "execution_count": 3,
   "metadata": {
    "collapsed": false
   },
   "outputs": [],
   "source": [
    "from pymongo import MongoClient\n",
    "# Connect to the mongo local database\n",
    "connection = MongoClient()\n",
    "db = connection.bsa_files\n",
    "collection = db.bsa_files"
   ]
  },
  {
   "cell_type": "code",
   "execution_count": 3,
   "metadata": {
    "collapsed": false
   },
   "outputs": [
    {
     "name": "stdout",
     "output_type": "stream",
     "text": [
      "MongoClient(host=['localhost:27017'], document_class=dict, tz_aware=False, connect=True)\n",
      "\n",
      "Database(MongoClient(host=['localhost:27017'], document_class=dict, tz_aware=False, connect=True), u'bsa_files')\n",
      "\n",
      "<bound method MongoClient.database_names of MongoClient(host=['localhost:27017'], document_class=dict, tz_aware=False, connect=True)>\n",
      "\n",
      "Collection(Database(MongoClient(host=['localhost:27017'], document_class=dict, tz_aware=False, connect=True), u'bsa_files'), u'bsa_files')\n",
      "\n",
      "<bound method Database.collection_names of Database(MongoClient(host=['localhost:27017'], document_class=dict, tz_aware=False, connect=True), u'bsa_files')>\n"
     ]
    }
   ],
   "source": [
    "print(connection)\n",
    "print\n",
    "print(db)\n",
    "print\n",
    "print(connection.database_names)\n",
    "print\n",
    "print(collection)\n",
    "print\n",
    "print(db.collection_names)"
   ]
  },
  {
   "cell_type": "code",
   "execution_count": 7,
   "metadata": {
    "collapsed": false
   },
   "outputs": [
    {
     "name": "stdout",
     "output_type": "stream",
     "text": [
      "{u'Domain': u'adventure.oa-bsa.org', u'Hash': u'bd1555e13f710c5ebf508349bc97fd87cec1e69f', u'UID': u'BSA_101', u'URL': u'http://adventure.oa-bsa.org/files/flyers/GENERAL_OAHA_FLYER.pdf', u'File_Name': u'GENERAL_OAHA_FLYER.pdf', u'Content': u'ORDER OF THE ARROW HIGH ADVENTURE ADVENTURE.OA - BSA.ORG TRAIL CREW WILDERNESS VOYAGE CANADIAN ODYSSEY OCEAN ADVENTURE SUMMIT EXPERIENCE Requirements: Be at least 16 years old by the time your program starts but not yet 21 by its conclusion(14 - 17 for Summit Experience) Be active in the BSA and a local OA Lodge See applications for height and weight restrictions', u'Content_Hash': u'83602de48c5d4ce405560dbaebeff9a3091acbe3', u'File_Size': 400338, u'Folder': u'flyers', u'Pages': 1, u'Metadata': {u'/Creator': u'Microsoft\\xae Publisher 2013', u'/ModDate': u\"D:20150503103301-05'00'\", u'/Producer': u'Microsoft\\xae Publisher 2013', u'/CreationDate': u\"D:20150503103301-05'00'\", u'/Author': u'sean ferrier'}}\n"
     ]
    }
   ],
   "source": [
    "with open('D:\\BSA_PDF_Files\\JSON\\BSA_101.json','r') as j:\n",
    "    test_file = ujson.load(j)\n",
    "print(test_file)"
   ]
  },
  {
   "cell_type": "code",
   "execution_count": 8,
   "metadata": {
    "collapsed": false
   },
   "outputs": [
    {
     "data": {
      "text/plain": [
       "<pymongo.results.InsertOneResult at 0x7987510>"
      ]
     },
     "execution_count": 8,
     "metadata": {},
     "output_type": "execute_result"
    }
   ],
   "source": [
    "collection.insert_one(test_file)"
   ]
  },
  {
   "cell_type": "code",
   "execution_count": 38,
   "metadata": {
    "collapsed": false
   },
   "outputs": [
    {
     "name": "stdout",
     "output_type": "stream",
     "text": [
      "{u'Domain': u'adventure.oa-bsa.org', u'Hash': u'bd1555e13f710c5ebf508349bc97fd87cec1e69f', u'UID': u'BSA_101', u'Language': u'english', u'URL': u'http://adventure.oa-bsa.org/files/flyers/GENERAL_OAHA_FLYER.pdf', u'File_Name': u'GENERAL_OAHA_FLYER.pdf', u'Pages': 1, u'Content': u'ORDER OF THE ARROW HIGH ADVENTURE ADVENTURE.OA - BSA.ORG TRAIL CREW WILDERNESS VOYAGE CANADIAN ODYSSEY OCEAN ADVENTURE SUMMIT EXPERIENCE Requirements: Be at least 16 years old by the time your program starts but not yet 21 by its conclusion(14 - 17 for Summit Experience) Be active in the BSA and a local OA Lodge See applications for height and weight restrictions', u'File_Size': 400338, u'Content_Hash': u'83602de48c5d4ce405560dbaebeff9a3091acbe3', u'_id': ObjectId('582cbfb88726e30d949a9815'), u'Folder': u'flyers', u'Metadata': {u'/CreationDate': u\"D:20150503103301-05'00'\", u'/Author': u'sean ferrier', u'/Producer': u'Microsoft\\xae Publisher 2013', u'/Creator': u'Microsoft\\xae Publisher 2013', u'/ModDate': u\"D:20150503103301-05'00'\"}}\n"
     ]
    }
   ],
   "source": [
    "retrieved_file = collection.find_one({\"UID\":\"BSA_101\"})\n",
    "print(retrieved_file)"
   ]
  },
  {
   "cell_type": "code",
   "execution_count": 44,
   "metadata": {
    "collapsed": false
   },
   "outputs": [
    {
     "name": "stdout",
     "output_type": "stream",
     "text": [
      "{u'Domain': u'adventure.oa-bsa.org', u'Hash': u'bd1555e13f710c5ebf508349bc97fd87cec1e69f', u'UID': u'BSA_101', u'Language': u'english', u'URL': u'http://adventure.oa-bsa.org/files/flyers/GENERAL_OAHA_FLYER.pdf', u'File_Name': u'GENERAL_OAHA_FLYER.pdf', u'Pages': 1, u'Content': u'ORDER OF THE ARROW HIGH ADVENTURE ADVENTURE.OA - BSA.ORG TRAIL CREW WILDERNESS VOYAGE CANADIAN ODYSSEY OCEAN ADVENTURE SUMMIT EXPERIENCE Requirements: Be at least 16 years old by the time your program starts but not yet 21 by its conclusion(14 - 17 for Summit Experience) Be active in the BSA and a local OA Lodge See applications for height and weight restrictions', u'File_Size': 400338, u'Content_Hash': u'83602de48c5d4ce405560dbaebeff9a3091acbe3', u'_id': ObjectId('582cbfb88726e30d949a9815'), u'Folder': u'flyers', u'Metadata': {u'/CreationDate': u\"D:20150503103301-05'00'\", u'/Author': u'sean ferrier', u'/Producer': u'Microsoft\\xae Publisher 2013', u'/Creator': u'Microsoft\\xae Publisher 2013', u'/ModDate': u\"D:20150503103301-05'00'\"}}\n",
      "***************************************************************************\n",
      "{u'Domain': u'bsaseabase.org', u'Hash': u'8fcb9bd610c6ff4fb17f76369a735d78eaa063c8', u'UID': u'BSA_241', u'Language': u'spanish', u'URL': u'http://bsaseabase.org/filestore/boyscouts/pdf/2014_ADELANTO_EFECTIVO_EN_LA_TROPA.pdf', u'File_Name': u'2014_ADELANTO_EFECTIVO_EN_LA_TROPA.pdf', u'Folder': u'pdf', u'Content': u'Educaci\\xf3n sobre Adelantos BSA ADELANTO EFECTIVO EN LA TROPA Fecha de expiraci\\xf3n: Esta presentaci\\xf3n no debe ser utilizada despu\\xe9s del 31 de diciembre de 2014. Obtenga una versi\\xf3n actualizada en www.scouting.org/advancement National Advancement Committee (Comit\\xe9 Nacional de Adelantos) Webinar & Education Task Force 2 \\xbfPor qu\\xe9 utilizamos el m\\xe9todo del adelanto? La Misi\\xf3n de BSA La misi\\xf3n de Boy Scouts of America es preparar a los j\\xf3venes para hacer decisiones \\xe9ticas y morales a lo largo de sus vidas inculc\\xe1ndoles los valores contenidos en la Promesa y la Ley del Scout . Objetivos del programa de Scouting Desarrollo del car\\xe1cter Preparar mejores ciudadanos Mente y cuerpo sanos El adelanto es uno de los ocho m\\xe9todos usados por los l\\xedderes Scout para cumplir con los objetivos de BSA. Es un m\\xe9todo (2.0.0.1) y no el proceso final Est\\xe1 basado en el aprendizaje experimental (2.0.0.2) dise\\xf1ado para educar o expandir horizontes Es un medio para el crecimiento personal (2.0.0.3) Obst\\xe1culos superables y apropiados para cada edad, que permiten al Scout aprender y ganar confianza en si mismo Los cuatro pasos del adelanto (4.2.1.0) 4 Aprende Examinado Revisado Reconocido El Scout: El Scout aprende (4.2.1.1) El Scout aprende haciendo sus propias cosas, crece, y luego ense\\xf1a lo aprendido - Boy Scout Handbook El m\\xe9todo EDGE es un m\\xe9todo de ense\\xf1anza en cuatro pasos: 5 E xplicar D emostrar G uiar E nponderar El Scout es examinado (4.2.1.2) 6 El l\\xedder de la unidad autoriza a quienes pueden examinar. Puede incluir a los patrol leaders , al senior patrol leader , a los asistentes del l\\xedder de unidad, a otros Scouts o l\\xedderes de la unidad. Los Consejeros de Insignia de M\\xe9rito ense\\xf1an y examinan los requisitos de Insignias de M\\xe9rito. El Scout es revisado (4.2.1.3) 7 Despu\\xe9s de haber completado todos los requisitos de adelanto para un rango, el Scout se re\\xfane con la Junta de Repaso. Para Tenderfoot, Second Class, First Class, Star, Life , y Eagle Palms , la Junta de Repaso est\\xe1 compuesto por los miembros del Comit\\xe9 de la Unidad. Los concilios locales son los que determinan el nivel al cual se llevan a cabo la Junta de Repaso para el rango Eagle Scout. El Scout es reconocido (4.2.1.4) 8 El reconocimiento edifica la confianza y promueve el adelanto adicional. Premia al Scout por su trabajo arduo Ayuda motiv\\xe1ndolos a que sigan adelante Constituye un recordatorio para que los otros Scouts sigan adelantando El reconocimiento debe ser inmediato y repetitivo. 9 Responsabilidades de la Unidad con Relaci\\xf3n al adelanto (3.0.0.3) La responsabilidad del Coordinador de Adelantos de la unidad es apoyar el programa de adelanto, maximizar el logro de rangos, y facilitar el proceso. Algunas unidades suelen organizar un Comit\\xe9 de Adelantos presidido por el Coordinador de Adelantos de la unidad. Los Coordinadores de Adelantos deben conocer y entender el procedimiento de adelanto. 10 El Coordinador de Adelantos de la unidad (3.0.0.3) Apoya la visi\\xf3n del l\\xedder de la unidad en relaci\\xf3n al adelanto Educa a los padres, Scouts, y l\\xedderes para estimular el adelanto dentro la tropa Ayuda a planificar, facilitar, y conducir regularmente las Cortes de Honor que est\\xe1n en el calendario Obtiene las insignias y certificados necesarios 11 Ayuda al L\\xedder de la Unidad a establecer pr\\xe1cticas que ayudar\\xe1n a cada Scout nuevo a obtener el rango de First Class durante los primeros 12 a 18 meses, y el rango Star inmediatamente despu\\xe9s. Organiza Juntas de Repaso frecuentes, si posible cada mes, e invita a los Scouts a prepararse para \\xe9stas. El Coordinador de Adelantos de la Unidad (3.0.0.3) 12 Mantiene registros de adelanto y env\\xeda informes peri\\xf3dicos al comit\\xe9 de la unidad. Mantiene una copia actualizada de la lista de los Consejeros de Insignias de M\\xe9rito del Distrito o del Concilio. Con la ayuda de los l\\xedderes j\\xf3venes de la unidad, mantiene una biblioteca de la literatura relacionada al adelanto. Aprende y promueve sobre otros premios y reconocimientos disponibles en BSA El Coordinador de Adelantos de la Unidad (3.0.0.3) Las responsabilidades del adelanto de la unidad: Reportando (4.0.0.2) 13 Las unidades deben reportar todos los adelantos al Concilio local. El adelanto debe reportarse mensualmente. La unidad debe conservar record del adelanto de todo el a\\xf1o calendario para ser considerado para el Journey to Excellence. Las Responsabilidades del adelanto de la unidad: Reportando (4.0.0.2) 14 Se recomienda enf\\xe1ticamente a las unidades utilizar la herramienta del Administrador de Adelantos de BSA disponible en m y.scouting.org . Todas las Insignias de Rango, las Insignias de M\\xe9rito, y las Eagle Palms son art\\xedculos restringidos, y requieren del informe de adelantos de la unidad para ser vendidos. La mec\\xe1nica del adelanto en la unidad (4.2.0. 1 ) 15 Los requisitos para Tenderfoot, Second Class, y First Class pueden ser aprobados en cualquier momento despu\\xe9s de haber cumplido los requisitos de entrada. Los requisitos para los rangos de Star, Life, y Eagle deben cumplirse despu\\xe9s de que se haya aprobado exitosamente la Junta de Repaso para el rango anterior. La mec\\xe1nica del adelanto en la unidad (4.2.0. 0 ) 16 Todos los requisitos de cada rango deben ser aprobados exactamente como est\\xe1n escritos. Todos los adelantos de rango en BSA deben ser completados antes de cumplir los 18 a\\xf1os de edad a menos que circunstancias especiales lo impidan. (Para mayor informaci\\xf3n ver la secci\\xf3n 10 del GTA.) 17 Las Insignias de M\\xe9rito (7.0.1.0) Los consejeros de Insignia de M\\xe9rito tienen que estar registrados con BSA. Los consejeros de Insignia de M\\xe9rito tienen que deben ser aprobados por el Concilio local. El Concilio y los Distritos suministran la lista de consejeros de Insignia de M\\xe9rito a las unidades. El Coordinador de Adelantos de la unidad es quien mantiene la lista actualizada (accesible) Las Insignias de M\\xe9rito 18 Los Consejeros de Insignia de M\\xe9rito tienen que completar el adiestramiento de Protecci\\xf3n Juvenil cada dos a\\xf1os. Los Consejeros de Insignias de M\\xe9rito deben ser hombres y mujeres de buen car\\xe1cter, mayores de 18 a\\xf1os de edad, y poseer destrezas reconocidas en la material que ense\\xf1an. El sistema de parejas tiene que ser usado siempre. Un miembro joven no puede reunirse a solas con un adulto. (7.0.3.1) Estimula a los Scouts a aprender nuevas destrezas y a explorar nuevas \\xe1reas del conocimiento. Provee una recompensa tangible para recompensar el trabajo duro. Ayuda a fortalecer la confianza. Facilita el crecimiento personal del Scout Provee un m\\xe9todo para promover los objetivos de Scouting. 20 Recursos , No. 33088 No. 33216 , No. 34554 No. 34405 Para m\\xe1s informaci\\xf3n Otras presentaciones adicionales est\\xe1n disponibles en: www.scouting.org/advancement', u'File_Size': 2074484, u'Content_Hash': u'43576b30be61e21517b9487a7e5a5e08cc508c32', u'_id': ObjectId('582cc1598726e30d949a989c'), u'Pages': 20, u'Metadata': {u'/Title': u'IV. Four Steps of Advancement (4.2.1.0)', u'/CreationDate': u\"D:20140625144044-05'00'\", u'/Producer': u'Microsoft\\xae PowerPoint\\xae 2013', u'/Creator': u'Microsoft\\xae PowerPoint\\xae 2013', u'/ModDate': u\"D:20140625144044-05'00'\", u'/Author': u'Paul T. Mobley Sr.'}}\n"
     ]
    }
   ],
   "source": [
    "print(collection.find_one({'Language':'english'}))\n",
    "print('*'*75)\n",
    "print(collection.find_one({'Language':'spanish'}))"
   ]
  },
  {
   "cell_type": "code",
   "execution_count": 23,
   "metadata": {
    "collapsed": false
   },
   "outputs": [],
   "source": [
    "def write_JSON_to_mongo(uid):\n",
    "    with open('D:\\BSA_PDF_Files\\JSON\\{}.json'.format(uid),'r') as j:\n",
    "        collection.insert_one(ujson.load(j))\n",
    "\n",
    "for uid in working_uid_list:\n",
    "    write_JSON_to_mongo(uid)"
   ]
  },
  {
   "cell_type": "code",
   "execution_count": 6,
   "metadata": {
    "collapsed": false
   },
   "outputs": [
    {
     "name": "stdout",
     "output_type": "stream",
     "text": [
      "[u'me', u'a', u'no', u'o', u'y', u'has', u'he']\n"
     ]
    }
   ],
   "source": [
    "import nltk\n",
    "\n",
    "english_stopwords = nltk.corpus.stopwords.words('english')\n",
    "spanish_stopwords = nltk.corpus.stopwords.words('spanish')\n",
    "\n",
    "common_stopwords = list(set(english_stopwords) & set(spanish_stopwords))\n",
    "print common_stopwords"
   ]
  },
  {
   "cell_type": "code",
   "execution_count": 43,
   "metadata": {
    "collapsed": false
   },
   "outputs": [
    {
     "name": "stdout",
     "output_type": "stream",
     "text": [
      "language update completed\n"
     ]
    }
   ],
   "source": [
    "def set_language(uid):\n",
    "    language = None\n",
    "    record = collection.find_one({'UID':uid})\n",
    "    if record[\"Content\"]!= None and record[\"Content\"]!= '':\n",
    "        if \"Language\" not in record:\n",
    "            if len(list(set(english_stopwords) & set(record[\"Content\"].strip().split()))) >= len(list(set(spanish_stopwords) & set(record[\"Content\"].strip().split()))):\n",
    "                language = \"english\"\n",
    "            elif len(list(set(english_stopwords) & set(record[\"Content\"].strip().split()))) < len(list(set(spanish_stopwords) & set(record[\"Content\"].strip().split()))):\n",
    "                language = \"spanish\"\n",
    "            else:\n",
    "                language = \"unknown\"\n",
    "            result = collection.update_one({\"UID\":uid},{\"$set\":{\"Language\":language}})                  \n",
    "            #print(result.modified_count)\n",
    "        elif record[\"Language\"]== None:\n",
    "            if len(list(set(english_stopwords) & set(record[\"Content\"].strip().split()))) >= len(list(set(spanish_stopwords) & set(record[\"Content\"].strip().split()))):\n",
    "                language = \"english\"\n",
    "            elif len(list(set(english_stopwords) & set(record[\"Content\"].strip().split()))) < len(list(set(spanish_stopwords) & set(record[\"Content\"].strip().split()))):\n",
    "                language = \"spanish\"\n",
    "            else:\n",
    "                language = \"unknown\"\n",
    "            result = collection.update_one({\"UID\":uid},{\"$set\":{\"Language\":language}})                  \n",
    "            #print(result.modified_count)\n",
    "    \n",
    "for uid in working_uid_list:\n",
    "    try:\n",
    "        set_language(uid)\n",
    "    except:\n",
    "        print uid\n",
    "    \n",
    "print \"language update completed\""
   ]
  },
  {
   "cell_type": "code",
   "execution_count": null,
   "metadata": {
    "collapsed": true
   },
   "outputs": [],
   "source": []
  }
 ],
 "metadata": {
  "anaconda-cloud": {},
  "kernelspec": {
   "display_name": "Python [conda root]",
   "language": "python",
   "name": "conda-root-py"
  },
  "language_info": {
   "codemirror_mode": {
    "name": "ipython",
    "version": 2
   },
   "file_extension": ".py",
   "mimetype": "text/x-python",
   "name": "python",
   "nbconvert_exporter": "python",
   "pygments_lexer": "ipython2",
   "version": "2.7.12"
  }
 },
 "nbformat": 4,
 "nbformat_minor": 1
}
